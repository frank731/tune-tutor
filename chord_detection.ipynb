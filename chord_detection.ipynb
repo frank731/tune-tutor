{
  "cells": [
    {
      "cell_type": "code",
      "source": [
        "!pip install mir_eval"
      ],
      "metadata": {
        "colab": {
          "base_uri": "https://localhost:8080/"
        },
        "id": "95ZbWiLdOUsH",
        "outputId": "6d939e11-792f-48d2-dbef-8b16046fd36f"
      },
      "execution_count": null,
      "outputs": [
        {
          "output_type": "stream",
          "name": "stdout",
          "text": [
            "Collecting mir_eval\n",
            "  Downloading mir_eval-0.7.tar.gz (90 kB)\n",
            "\u001b[2K     \u001b[90m━━━━━━━━━━━━━━━━━━━━━━━━━━━━━━━━━━━━━━━━\u001b[0m \u001b[32m90.7/90.7 kB\u001b[0m \u001b[31m703.5 kB/s\u001b[0m eta \u001b[36m0:00:00\u001b[0m\n",
            "\u001b[?25h  Preparing metadata (setup.py) ... \u001b[?25l\u001b[?25hdone\n",
            "Requirement already satisfied: numpy>=1.7.0 in /usr/local/lib/python3.10/dist-packages (from mir_eval) (1.25.2)\n",
            "Requirement already satisfied: scipy>=1.0.0 in /usr/local/lib/python3.10/dist-packages (from mir_eval) (1.11.4)\n",
            "Requirement already satisfied: future in /usr/local/lib/python3.10/dist-packages (from mir_eval) (0.18.3)\n",
            "Requirement already satisfied: six in /usr/local/lib/python3.10/dist-packages (from mir_eval) (1.16.0)\n",
            "Building wheels for collected packages: mir_eval\n",
            "  Building wheel for mir_eval (setup.py) ... \u001b[?25l\u001b[?25hdone\n",
            "  Created wheel for mir_eval: filename=mir_eval-0.7-py3-none-any.whl size=100704 sha256=022bdd4ce7e3627ef31c683da17977daafc60bd7b3a40b421bab0ef1dd7f206b\n",
            "  Stored in directory: /root/.cache/pip/wheels/3e/2f/0d/dda9c4c77a170e21356b6afa2f7d9bb078338634ba05d94e3f\n",
            "Successfully built mir_eval\n",
            "Installing collected packages: mir_eval\n",
            "Successfully installed mir_eval-0.7\n"
          ]
        }
      ]
    },
    {
      "cell_type": "markdown",
      "metadata": {
        "id": "FUJfpMWnpXX2"
      },
      "source": [
        "Read Data"
      ]
    },
    {
      "cell_type": "code",
      "execution_count": null,
      "metadata": {
        "colab": {
          "base_uri": "https://localhost:8080/",
          "height": 108
        },
        "id": "-qFuk9xKpWJL",
        "outputId": "b11cfcb6-141b-45e5-819e-1eed45e43a51"
      },
      "outputs": [
        {
          "output_type": "stream",
          "name": "stdout",
          "text": [
            "890\n"
          ]
        },
        {
          "output_type": "execute_result",
          "data": {
            "text/plain": [
              "'\\nchord_prog_folder = \\'/content/drive/MyDrive/Chord Detection/chord progressions\\'\\nsong_data_folder = \\'/content/drive/MyDrive/Chord Detection/song data\\'\\n\\nfeatures, labels = prepare_data(chord_prog_folder, song_data_folder)\\nprint(features.shape, labels.shape)\\n\\n# Save the dataset for future use\\nnp.save(\\'/content/drive/MyDrive/Chord Detection/features.npy\\', features)\\nnp.save(\\'/content/drive/MyDrive/Chord Detection/labels.npy\\', labels)\\n\\nprint(\"Data prepared and saved.\")\\n'"
            ],
            "application/vnd.google.colaboratory.intrinsic+json": {
              "type": "string"
            }
          },
          "metadata": {},
          "execution_count": 7
        }
      ],
      "source": [
        "import os\n",
        "import pandas as pd\n",
        "import numpy as np\n",
        "import mir_eval\n",
        "\n",
        "def read_lab_file(filepath):\n",
        "    # Read the full.lab file and return a list of ([start_time, end_time], chord) tuples\n",
        "    return mir_eval.io.load_labeled_intervals(filepath, comment='\\n')\n",
        "\n",
        "def read_chroma_file(filepath):\n",
        "    # Read the bothchroma.csv file and return a numpy array\n",
        "    data = pd.read_csv(filepath, header=None)\n",
        "    bothchroma = data[data.columns[2:]].values\n",
        "    times = data[data.columns[1]].values\n",
        "    interval = times[1] - times[0]  # Calculate the interval\n",
        "    last_time = times[-1]\n",
        "\n",
        "    return (bothchroma, interval, last_time)\n",
        "\n",
        "def read_tuning_file(filepath):\n",
        "    # Read the tuning.csv file and return tuning in HZ\n",
        "    return pd.read_csv(filepath, header=None).values[0][3]\n",
        "\n",
        "def convert_label_maj_min(chord):\n",
        "    # Convert MIREX labels to major/minor triads to shrink number of labels for training purposes\n",
        "    chord_quality_mapping = {\n",
        "        '': 'maj',          # Default to major for unspecified qualities\n",
        "        'maj13': 'maj',\n",
        "        'dim7': 'min',\n",
        "        'maj7': 'maj',\n",
        "        'minmaj7': 'min',\n",
        "        'aug': 'maj',\n",
        "        '5': 'maj',\n",
        "        'maj6': 'maj',\n",
        "        'sus2': 'maj',\n",
        "        '1': 'maj',\n",
        "        'sus4': 'maj',\n",
        "        'maj9': 'maj',\n",
        "        '13': 'maj',\n",
        "        'min6': 'min',\n",
        "        '9': 'maj',\n",
        "        'min11': 'min',\n",
        "        'min7': 'min',\n",
        "        'dim': 'min',\n",
        "        '7': 'maj',\n",
        "        'hdim7': 'min',\n",
        "        'min9': 'min',\n",
        "        '11': 'maj',\n",
        "        'min': 'min',\n",
        "        'min13': 'min',\n",
        "        'maj': 'maj'\n",
        "    }\n",
        "    return chord[0] + chord_quality_mapping[chord[1]]\n",
        "def align_chroma_with_labels(chords, chroma, tuning, window_size=1.0, overlap=0.5):\n",
        "    features = []\n",
        "    labels = []\n",
        "    bothchroma = chroma[0]\n",
        "    interval = chroma[1]\n",
        "    last_time = chroma[2]\n",
        "\n",
        "    window_length = int(window_size / interval)\n",
        "    step = int((window_size - overlap) / interval)\n",
        "\n",
        "    for start_idx in range(0, len(bothchroma) - window_length + 1, step):\n",
        "        end_idx = start_idx + window_length\n",
        "        window = bothchroma[start_idx:end_idx]\n",
        "        if len(window) < window_length:\n",
        "            break\n",
        "        window_features = np.concatenate([window.flatten(), [tuning]])\n",
        "        features.append(window_features)\n",
        "\n",
        "        # Find the chord label for the middle of the window\n",
        "        window_mid_time = (start_idx + end_idx) / 2 * interval\n",
        "        chord_label = 'N'  # Assume 'N' for no chord\n",
        "        for chord in chords:\n",
        "            if chord[0][0] <= window_mid_time < chord[0][1]:\n",
        "                chord_info = mir_eval.chord.split(chord[2])\n",
        "                break\n",
        "        labels.append(chord_label)\n",
        "\n",
        "    return np.array(features), np.array(labels)\n",
        "\n",
        "def prepare_data(chord_prog_folder, song_data_folder, window_size=1.0, overlap=0.5):\n",
        "    all_features = []\n",
        "    all_labels = []\n",
        "    for folder_id in os.listdir(chord_prog_folder):\n",
        "        lab_file = os.path.join(chord_prog_folder, folder_id, 'full.lab')\n",
        "        chroma_file = os.path.join(song_data_folder, folder_id, 'bothchroma.csv')\n",
        "        tuning_file = os.path.join(song_data_folder, folder_id, 'tuning.csv')\n",
        "\n",
        "        chords = read_lab_file(lab_file)\n",
        "        chroma = read_chroma_file(chroma_file)\n",
        "        tuning = read_tuning_file(tuning_file)\n",
        "\n",
        "        features, labels = align_chroma_with_labels(chords, chroma, tuning, window_size, overlap)\n",
        "        all_features.append(features)\n",
        "        all_labels.append(labels)\n",
        "        #print(features.shape, labels.shape)\n",
        "\n",
        "    return np.concatenate(all_features), np.concatenate(all_labels)\n",
        "\n",
        "chord_prog_folder = '/content/drive/MyDrive/Chord Detection/chord progressions'\n",
        "song_data_folder = '/content/drive/MyDrive/Chord Detection/song data'\n",
        "\n",
        "features, labels = prepare_data(chord_prog_folder, song_data_folder)\n",
        "print(features.shape, labels.shape)\n",
        "\n",
        "# Save the dataset for future use\n",
        "np.save('/content/drive/MyDrive/Chord Detection/features.npy', features)\n",
        "np.save('/content/drive/MyDrive/Chord Detection/labels.npy', labels)\n",
        "\n",
        "print(\"Data prepared and saved.\")\n"
      ]
    },
    {
      "cell_type": "markdown",
      "metadata": {
        "id": "r2z0Is4JIZ_L"
      },
      "source": [
        "Create training data"
      ]
    },
    {
      "cell_type": "code",
      "execution_count": null,
      "metadata": {
        "colab": {
          "base_uri": "https://localhost:8080/"
        },
        "id": "t1yHdM5sHSOI",
        "outputId": "5b78267f-1cce-4403-c6e4-7cdddc0aeeda"
      },
      "outputs": [
        {
          "output_type": "stream",
          "name": "stdout",
          "text": [
            "{'D:min/5', 'G:sus4/2', 'Ab:sus4(b7,9)', 'C#:min7/4', 'F:maj/b7', 'C:dim/7', 'F:7/b7', 'Bb:7(b9)', 'C:maj/#4', 'Cb:1/1', 'F:maj/6', 'A:(#5)', 'F:min7/b3', 'G:maj/3', 'G:maj7(#9)', 'C:(11)', 'E:maj6/6', 'A:7/4', 'B:sus2(b7)', 'C#:(b3,b7,11,9)', 'Bb:aug(b7)', 'D:maj(9)', 'D:dim', 'C#:dim7/b3', 'Eb:min6(#11)', 'Ab:min9', 'B:min(11)', 'F:hdim7/b7', 'Fb:maj7', 'A:aug', 'Db:7/b7', 'F#:min7', 'Ab:maj6/2', 'F:maj/7', 'Eb:aug', 'A:maj/b7', 'F:maj7', 'N', 'F:min6/b3', 'A:9(13)', 'Db:min', 'C:min/6', 'B:min/6', 'F:maj6/2', 'Ab:maj', 'F#:aug(b7)', 'D:maj6(9)', 'F:5(b7)', 'D:maj6(b7,11)', 'Cb:7(#11)', 'D:maj6/2', 'C:9(#11)', 'Db:sus2', 'Eb:minmaj7', 'B:aug', 'C:sus2', 'C:dim', 'Eb:min', 'E:min(b13)', 'D:sus2(b7)', 'B:11', 'Db:hdim7', 'A:min/4', 'Eb:min/5', 'D#:min7', 'C:maj/2', 'A:dim', 'D:min7/b7', 'G:5/5', 'B:min/b3', 'C:7(#9)', 'F:9/5', 'F:sus4(b7)', 'Bb:min9', 'G:maj/#4', 'B:min7/b7', 'C#:hdim7/4', 'F#:7/3', 'A:sus4(9)', 'C:maj/3', 'Eb:maj6/5', 'C#:9', 'C#:7', 'C#:sus4(b7)', 'Db:7/5', 'G:1/1', 'F:sus2/3', 'D:min(9)', 'Ab:sus4', 'A:min7', 'C#:5(b13)', 'A:hdim7/b5', 'G#:min/7', 'Bb:maj/5', 'F:(b3)', 'Bb:hdim7', 'F:min7/2', 'D:7/3', 'C:7/6', 'D:maj9(13)', 'F#:dim', 'F:maj(#11)', 'Ab:sus2(b7)', 'F#:sus4/b7', 'E:maj/3', 'C:maj6(9)', 'G:sus4', 'Eb:min(b13)', 'Ab:(b7)', 'Ab:min(11)', 'G:9/5', 'F:min7/5', 'D:sus4(b7)/5', 'B:7(b9)/3', 'F:7/3', 'F:min(b13)', 'Ab:7/5', 'B:min/5', 'F:7(b9)', 'Ab:5/5', 'Bb:sus4(9)/7', 'Db:dim', 'E:5', 'F:sus4/5', 'Eb:7(#9)', 'Bb:5', 'C:min7/b3', 'B:min', 'G:13', 'D:maj13', 'Ab:maj6/5', 'C:min7(11)', 'E:5(b7)', 'F#:min7/b7', 'Ab:7(b9,b13)', 'A:7/6', 'F:dim', 'F#:7(b13)', 'D:7/b7', 'A:7(b9,b13)', 'Ab:maj6', 'G:maj6/3', 'E:hdim7/b3', 'G:7/6', 'Db:aug', 'E:min/2', 'Cb:7', 'Eb:sus4(b7,9)/5', 'E:min(9)/7', 'E:(3)/3', 'B:sus4(b7)', 'D:7(#9)', 'C#:5', 'D:maj/4', 'G:maj(9)', 'Db:sus4(b7)', 'Db:min/5', 'A:7(b9)/3', 'Bb:min11', 'Ab:maj(9)/3', 'Bb:maj7/2', 'G:maj(11)', 'F:1/1', 'Db:7/3', 'Eb:7/3', 'A:min6', 'Db:7/4', 'G#:7(#9)', 'Ab:min6', 'Eb:min6', 'D:sus4(b7)', 'D:min9/b7', 'F:7(#11)', 'Eb:maj7(#5)', 'B:maj/3', 'G:minmaj7', 'Ab:maj6(9)', 'A:dim7', 'A:min(11)', 'G#:dim', 'B:maj7(b7)/3', 'A:minmaj7', 'Db:min(9)', 'G#:maj', 'E:7(#9)', 'C:sus4/4', 'D:maj/3', 'E:min7/5', 'C:(b5,b7,3)', 'D:5/5', 'E:1/1', 'D:maj6(7)', 'A#:dim', 'Bb:sus4(b7)/b7', 'Gb:7', 'F:7/2', 'Bb:5(b7)/5', 'A:(11,9)', 'Db:maj(9)/5', 'Cb:maj/5', 'D#:7', 'E:dim7', 'A:7(b9)', 'Eb:11', 'A:sus4(b7)', 'Bb:minmaj7', 'B:13', 'A:sus4', 'Ab:maj(9)/6', 'C:maj6/5', 'A:min/b7', 'B:7(b9)', 'D:7(b9)', 'Bb:min/5', 'G#:min9', 'A:(11)', 'C:sus2(#11)', 'Eb:5', 'F#:min/b3', 'B:maj', 'C#:sus4(b7,9)', 'C:min6/b3', 'Db:maj/3', 'E:maj/5', 'C:min6', 'Eb:7(b13,#9)', 'F:9', 'F#:sus4', 'B:7/5', 'Eb:7/5', 'A:maj(11)/b7', 'E:7/b3', 'B:dim', 'F:min6(9)/5', 'D:maj7', 'A:maj(9)', 'Gb:maj6(b7)', 'A:1/1', 'F#:min7(11)', 'E:min(11,9)', 'B:maj/b4', 'Ab:5/b7', 'G:sus4(b7)/4', 'Db:maj9', 'E:sus4(9)', 'Eb:maj/4', 'G:maj7/2', 'F#:7/b7', 'Fb:(3,7)', 'E:dim/b5', 'C:9(13,#11)', 'Bb:7(b9,b13)', 'F#:9', 'D:min9', 'A:maj', 'F#:7/5', 'C#:min11', 'A:maj(#9)', 'D#:dim/b5', 'B:min/b7', 'Bb:maj(9)/3', 'Ab:maj/7', 'Bb:maj6/b7', 'F:min/5', 'F:5/6', 'A:5/4', 'Db:maj(11)', 'C:maj', 'F#:min9', 'G:sus2', 'Db:5(b7)', 'G:sus4(b7,9)', 'G:min7/4', 'G:maj/b7', 'Db:7', 'Ab:7/4', 'E:min(9)', 'E:sus2', 'B:min11/b7', 'B:min7', 'D:7(b9,#11)', 'D:maj7/5', 'F:7/5', 'E:aug', 'E:11', 'Db:1/1', 'Db:sus4(9)', 'D:5(b7)', 'G:maj6', 'G:min6', 'Ab:min/5', 'Bb:min11/b7', 'D:maj/2', 'F#:sus4(b7,9)', 'F#:min/4', 'G:maj/6', 'C:sus4(9)', 'C:min/5', 'Eb:min13', 'D#:maj', 'F:maj/3', 'F:sus4(b7,9)', 'F:min/b3', 'B:min/4', 'G:11', 'Eb:7/b7', 'F:sus2', 'B:sus4(b7)/4', 'G:7(b9)', 'C:maj(11)', 'C:maj13', 'D:min13', 'G:maj/b3', 'A:maj/3', 'G:maj(9)/3', 'Eb:maj/7', 'F:maj6/5', 'Bb:13', 'F:min/4', 'E:7(b13)/3', 'Ab:maj/4', 'G:7/b7', 'Eb:maj(b9)', 'D:hdim7', 'Bb:min/2', 'Eb:min(9)', 'C:maj6(7)', 'C:maj(#11)', 'A:maj7(#11)', 'Bb:maj9', 'E:sus4(b7,9)', 'D#:maj/b6', 'C:maj7', 'D:sus4(b7,9)', 'G:5(b7)', 'Ab:maj/b7', 'D:maj', 'X', 'C:min/b3', 'Ab:min7/5', 'Db:maj7', 'B:maj9', 'F:min9', 'D:min7/5', 'C:min(9)/5', 'G:7/b5', 'A:min7/b3', 'F#:hdim7/b3', 'D:maj(#9)', 'Eb:min7(b13)', 'Eb:min/b3', 'Cb:9', 'C:sus2/2', 'Bb:maj/2', 'E:(b5,b7,3)/b5', 'Eb:maj(9,#11)', 'F#:dim7', 'B:hdim7', 'D:7/5', 'Gb:maj6', 'F:sus4(9)', 'Ab:maj/2', 'Ab:dim', 'E:min7', 'Ab:maj/5', 'G:hdim7', 'Db:11', 'E:min', 'C:min(9)', 'A:(13)/6', 'G:9(b13)', 'A:7', 'Gb:maj7', 'Db:minmaj7/5', 'A:maj/6', 'A:sus4/5', 'D:min/b3', 'Ab:maj6(7)', 'D:7', 'G:sus4(b7)', 'B:maj/b6', 'D:7/b4', 'B:maj(9)', 'C#:sus2(b7)', 'E:min/4', 'E:maj/7', 'E:sus4(b7)', 'D:min7/b3', 'F:min6/5', 'E:hdim7', 'C:5/5', 'F#:7/b2', 'D:maj7(#11)', 'F#:(b5,b7,3)', 'E:min/b3', 'B:min(9)', 'F#:maj6/6', 'Db:maj/4', 'Bb:sus4(9)', 'Eb:maj9(13,#11)', 'G:min/5', 'C:7(b9)', 'A:5/6', 'F:maj9', 'C:sus4(b7,9)', 'C#:5(b7)', 'A:5(b7)', 'F#:minmaj7', 'D:min7', 'G:9/3', 'Ab:7(#9)', 'F:maj9/4', 'Ab:maj7', 'A:5', 'F:maj6(9)', 'B:maj6', 'Eb:sus4', 'E:aug(b7)', 'Db:maj6(9)', 'Gb:min7', 'D:maj/b3', 'Bb:dim', 'Ab:min(9)', 'Ab:min7', 'G:maj7/5', 'Gb:5', 'F#:maj/2', 'Bb:sus4(b7,9,13)', 'F:maj13', 'F#:maj/3', 'A:min9', 'A:5(b7)/3', 'Eb:maj7(#11)', 'Ab:7', 'F:sus4', 'E:min/b7', 'C:7', 'Gb:maj(9)/2', 'Db:maj/2', 'F:maj(9)', 'G#:7(b9)', 'A:9/5', 'Ab:7(b9)', 'C:min/b7', 'G:min', 'G:7(b13)', 'Fb:5(b7)', 'G:min/4', 'D:sus2', 'Bb:maj6(9)', 'Ab:maj(9)', 'B:maj/b7', 'Ab:maj7/2', 'C#:7/4', 'G:maj7', 'D:maj7/3', 'Ab:hdim7', 'Bb:minmaj7/7', 'E:maj(11)', 'F:min7(11)', 'D#:dim/b2', 'Db:maj7/7', 'A:maj/7', 'A:min7/4', 'Eb:7(b9)/3', 'Bb:maj/3', 'Ab:min11', 'B:min7/5', 'C:hdim7', 'C:minmaj7', 'A:maj9(#11)', 'Gb:maj(9)', 'F#:7/6', 'F:min7/4', 'G:sus4(9)', 'E:maj9', 'E:7(#11)', 'G:maj7/3', 'F:min(9)', 'Cb:min6', 'E:maj7', 'G:dim', 'Bb:min7/b7', 'B:min7/b3', 'Gb:maj/2', 'Eb:min7(11)', 'A:9/3', 'C#:min9/b7', 'G:min7/5', 'E:7', 'F#:maj(11)', 'B:sus4', 'G#:sus4(b7)', 'A#:1/1', 'F:maj/5', 'D:(11)', 'B:5', 'G#:hdim7', 'G:min7(11)', 'A:(b5,b7,3)/b5', 'G:dim7', 'A:maj/4', 'A:min/6', 'G:7', 'Bb:sus4(b7)', 'A:sus4(b7,9)', 'Gb:13', 'G:7/3', 'E:(b3,b7,11,9)', 'Eb:maj7/5', 'F:maj(9)/5', 'D:5', 'Gb:7/5', 'Db:maj(9)', 'Eb:min7/b7', 'A:7/2', 'Eb:maj/6', 'E:sus4/2', 'G#:maj/5', 'Gb:maj/b7', 'E:maj7/5', 'B:min9', 'G:9', 'C#:min/3', 'Cb:maj9', 'G:sus4(b7,9,13)', 'B:dim/b7', 'D:min(11)', 'E:maj/b5', 'Ab:maj6/4', 'C#:maj/b4', 'F#:hdim7', 'E:maj/4', 'D:maj6', 'Bb:7/5', 'Eb:maj6(7)', 'E:7/b7', 'F#:maj/6', 'G#:sus4(b7,9)', 'G:5', 'F:maj/4', 'A:maj(9)/5', 'E:min6', 'Eb:min9/b7', 'F#:min/b8', 'D:maj/7', 'C:maj(9)/3', 'F:min7', 'C#:min/b7', 'G#:min7', 'A:maj6/3', 'D#:dim', 'D:min/2', 'C:maj6/3', 'C#:min(b13)', 'E:min9/2', 'B:9', 'Db:maj9(#11)', 'F:minmaj7', 'F:7', 'Ab:maj9', 'A:7(b9)/b7', 'G:min11', 'A:(b7)/b7', 'C:7(b9)/3', 'F:dim/#4', 'A:dim/b3', 'D:min/4', 'Gb:min', 'F:maj6/3', 'Bb:11', 'Bb:maj/7', 'Bb:maj6', 'G:min9', 'A:min(9)', 'Gb:maj/3', 'A#:dim7', 'D:min(b13)', 'G:7(#9)', 'C:maj/7', 'A:min7(11)', 'C:7/3', 'D:min9/5', 'C:sus4/7', 'Db:9', 'G#:1/1', 'Eb:1/1', 'C:1/1', 'Gb:maj6/5', 'G:7/4', 'A:13', 'Ab:11', 'F:sus2(b7)', 'Cb:maj7(#11)', 'E:7/5', 'Db:maj', 'F#:min11', 'D#:sus4(b7)', 'A:5(b7)/2', 'F#:sus4(b13,b7)', 'Eb:min/b7', 'B:aug(b7)/3', 'Ab:maj13', 'Eb:maj9', 'B:min11', 'A:11', 'A:maj7/7', 'E:hdim7/b7', 'Eb:sus4(b7)', 'D:sus2/2', 'Fb:maj', 'Ab:13', 'Eb:dim', 'F#:min/b7', 'Ab:7/b7', 'Gb:maj7/2', 'D:minmaj7', 'A#:maj', 'Ab:min(b13)', 'Db:(b7)', 'Db:sus4', 'F:sus4(b7,9)/2', 'B:dim/b3', 'Ab:7/3', 'Bb:sus4(b7)/4', 'F:maj6(9)/3', 'A:7(#11)', 'Eb:hdim7/b7', 'A:sus4(b7,9,13)', 'Eb:13', 'G:maj(11)/4', 'F#:sus4(b7)', 'E:min/5', 'F:9(#11)', 'F:maj7/7', 'A:min(9)/b7', 'G:sus4/4', 'C:13', 'Bb:min', 'Gb:maj', 'B:5/5', 'F#:5', 'A:maj7', 'B:maj6(b7)', 'B:maj/5', 'Bb:sus4', 'Db:maj6(9)/5', 'B:7/6', 'Bb:hdim7/b5', 'Bb:maj', 'C:sus4(b7)', 'Gb:maj9', 'D:sus4', 'D:9', 'A:min9(b13)', 'F:(b5,11)', 'E:min7(11)', 'Gb:maj13', 'C:maj/5', 'D:min6(7)', 'Eb:(b5,b7,3)', 'C:min6/2', 'A:maj6', 'D:maj(9)/3', 'Bb:(3)', 'F#:maj', 'C#:maj', 'E:min9/4', 'C:sus4/5', 'D:maj9', 'E:7(b9)', 'Ab:maj6(b7)', 'Bb:7(#11)', 'Gb:(b7)', 'Bb:9/3', 'B:maj/bb6', 'C:maj/4', 'F:maj6', 'G:maj/5', 'Eb:maj/3', 'E:min6/2', 'Gb:1/1', 'Eb:sus2', 'E:maj', 'C:min7', 'B:min(11)/4', 'G:min7', 'G:maj9', 'F#:maj(9)/3', 'C#:7(b9)', 'E:maj6(9)', 'C#:min11/b3', 'Cb:maj', 'E:sus4', 'G#:min7(11)', 'Eb:maj(#11)', 'F:min/b7', 'G:maj6/b5', 'B:7(#9)', 'G#:min/bb7', 'A:min(9)/6', 'B:maj7', 'A:hdim7', 'Ab:maj7/3', 'Eb:maj7', 'C:(3)/2', 'G:maj/4', 'D:7(#11)', 'E:dim', 'A:maj7/2', 'Bb:maj7/3', 'Eb:maj(9)', 'C:7(b9)/b2', 'Eb:maj/5', 'Cb:maj(9)', 'Ab:min7/4', 'Bb:sus4(b7,9)', 'F:maj/2', 'E:minmaj7/5', 'Gb:maj/5', 'C:7/b7', 'C:min9', 'B:maj6/5', 'D:min', 'A:maj6/5', 'F:13', 'Gb:maj9(#11)', 'B:7/3', 'D:maj6/3', 'G#:min(11)', 'G:(b5,b7,3)', 'Eb:min9', 'Cb:maj7', 'F:hdim7', 'Db:maj/5', 'A:7/5', 'D:min11', 'F:11', 'Ab:sus2', 'Eb:maj/b7', 'C#:dim7', 'G:sus4/5', 'Eb:maj7(#11)/3', 'Eb:sus4(b7,9,#11)', 'Db:dim/b3', 'Db:min7', 'F:min6', 'Eb:maj', 'F:9/3', 'C:11', 'C:min11', 'D:min/b7', 'Bb:maj/b7', 'G:min7/2', 'Bb:maj13', 'C#:min(9)', 'Bb:maj(9)', 'Ab:sus4(b7)', 'A:min7/b7', 'B:dim(b13)', 'A:9', 'C:min', 'D:min11/5', 'F#:maj(9)', 'F#:min/5', 'Ab:7(b13)', 'Ab:5', 'G:7/5', 'Db:maj13', 'B:aug/5', 'E:9/3', 'A:min7/5', 'C:maj6', 'Bb:5/2', 'Ab:maj/3', 'Eb:maj6', 'Db:7(#11)', 'A:7(b9)/5', 'E:(b3,b7)/b7', 'B:maj/7', 'Bb:7/3', 'B:min(11,9)', 'F:maj7/4', 'D#:min', 'G:maj6(9)', 'D:maj(b9)', 'C#:7(b9)/3', 'Ab:9', 'F#:min', 'C#:1/1', 'Bb:min7(11)', 'E:min11', 'G:min7/b7', 'F:7(#9)', 'D:min6/5', 'Eb:7(b13)', 'C:maj/b7', 'C#:min7', 'C:maj9', 'C:sus4', 'G#:7', 'G:5/4', 'D:maj/6', 'Gb:dim', 'C#:min9', 'B:1/1', 'Eb:7', 'G:maj13', 'E:min9/b3', 'B:maj6/3', 'E:maj/b7', 'D:min/6', 'F:sus4(b7)/b7', 'G:7/b3', 'B:min(11)/b7', 'D:hdim7/b3', 'D:maj/b7', 'D:1/1', 'Bb:7(#9)', 'D:11', 'F#:1/1', 'B:7(b13)', 'Db:sus4(b7,9)', 'Bb:min/b7', 'D:(#5)', 'D:sus4(b7)/2', 'A:maj7/5', 'G:maj/7', 'Ab:1/1', 'C:5(b7)', 'Bb:7', 'D:min6', 'A:maj6(9)', 'C:aug', 'Gb:maj(11)', 'Db:maj/b7', 'F:aug(9)', 'Gb:maj6(9)', 'B:maj/2', 'C:aug(b7)', 'C:maj9(#11)', 'A:sus2(b7)', 'A:7(#9)', 'C:maj/6', 'A:(b5,b7,3)', 'Eb:maj13', 'G:min/b3', 'F:aug', 'C#:min', 'Db:maj6', 'A:dim/b5', 'B:7(11)', 'Eb:maj/2', 'Eb:min7', 'F:5', 'A:min7/6', 'C:7/5', 'Eb:min6/5', 'A:min11', 'Ab:maj7/7', 'Bb:maj7/7', 'B:min(11)/7', 'A:min/b6', 'G:aug(b7)', 'F:maj7/3', 'Ab:dim7/2', 'C#:min(11)', 'B:7(b9)/b2', 'G:hdim7/b5', 'Bb:maj6/5', 'Bb:aug', 'B:maj/4', 'D:maj/5', 'E:7(b9)/4', 'G:maj6(7)', 'Bb:min6', 'F#:hdim7/b5', 'C:5(13)', 'A:maj9', 'C:7(11)', 'F:min', 'Ab:maj/6', 'E:sus4(b7,9,13)', 'Bb:9', 'E:maj/2', 'D:min7/4', 'B:7(b9,b13)', 'B:min7/b2', 'G:maj', 'F:min9/4', 'Cb:maj/2', 'B:maj/6', 'E:min9', 'E:9', 'Db:maj6/5', 'B:min7/4', 'B:sus4/b7', 'Gb:min/3', 'D:sus4/b7', 'E:aug(7)', 'B:7(#11)', 'G#:sus4', 'G#:min', 'F#:11', 'C:sus4(b7,9,13)', 'A:min/5', 'G:min11/b3', 'F#:maj/5', 'F#:7', 'B:min11/5', 'F#:min(b13)', 'F:maj', 'C#:dim', 'A:sus2', 'Db:maj/7', 'G:maj/2', 'E:maj6', 'C:9', 'B:5(b7)', 'G:aug', 'Ab:min/b3', 'F#:maj6', 'C:sus2/5', 'E:maj(#9)', 'F:(3)', 'Ab:min', 'A:maj/2', 'A:maj(9)/3', 'C:maj9/3', 'F#:min6', 'C:aug(b7,9)', 'B:7/b7', 'C:5', 'Bb:maj7', 'Eb:min11', 'D:maj7/2', 'F:min11', 'B:maj6(b9)', 'Bb:(b5,b7,3)', 'A:min', 'C#:hdim7', 'Bb:1/1', 'F#:min/7', 'Eb:9', 'Eb:maj6(9)', 'A:maj/5', 'A:7/b7', 'E:7/3', 'C#:7(#9)', 'B:7', 'A:min/b3', 'E:maj(9)/3', 'D:min6/2', 'A:5(b7)/b7', 'Bb:sus2', 'Db:min9', 'C#:min/5', 'G#:maj/b2', 'Db:5', 'Eb:sus4(b7,9)', 'E:min7/b3', 'Eb:min7/4', 'Gb:sus2', 'D:maj6(9)/5', 'Bb:maj/6', 'C#:min7/b3', 'Bb:maj6(7,#11)', 'A:maj9/3', 'Ab:sus4/5', 'E:sus2(b7)', 'F#:maj/b3', 'G:maj(9)/5', 'C:maj(9)', 'B:sus4(b7,9)', 'A:7/3', 'Bb:min7'}\n"
          ]
        },
        {
          "output_type": "stream",
          "name": "stderr",
          "text": [
            "/usr/local/lib/python3.10/dist-packages/sklearn/preprocessing/_encoders.py:868: FutureWarning: `sparse` was renamed to `sparse_output` in version 1.2 and will be removed in 1.4. `sparse_output` is ignored unless you leave `sparse` to its default value.\n",
            "  warnings.warn(\n"
          ]
        },
        {
          "output_type": "stream",
          "name": "stdout",
          "text": [
            "split data\n"
          ]
        }
      ],
      "source": [
        "import numpy as np\n",
        "import pandas as pd\n",
        "from sklearn.model_selection import train_test_split\n",
        "from tensorflow import keras\n",
        "from keras.models import Sequential\n",
        "from keras.layers import Dense, LSTM, Dropout, GRU\n",
        "from keras.optimizers import Adam\n",
        "from sklearn.preprocessing import LabelEncoder, OneHotEncoder\n",
        "from sklearn.preprocessing import StandardScaler\n",
        "\n",
        "# Define paths\n",
        "features_path = '/content/drive/MyDrive/Chord Detection/features.npy'\n",
        "labels_path = '/content/drive/MyDrive/Chord Detection/labels.npy'\n",
        "\n",
        "# Load data\n",
        "features = np.load(features_path)\n",
        "labels = np.load(labels_path)\n",
        "\n",
        "print(set(labels))\n",
        "\n",
        "label_encoder = LabelEncoder()\n",
        "integer_encoded = label_encoder.fit_transform(labels)\n",
        "onehot_encoder = OneHotEncoder(sparse=False)\n",
        "integer_encoded = integer_encoded.reshape(len(integer_encoded), 1)\n",
        "onehot_encoded = onehot_encoder.fit_transform(integer_encoded)\n",
        "\n",
        "#X, y = create_sequences(scaled_features, integer_encoded_labels, sequence_length)\n",
        "#print(\"Created sequences\")\n",
        "# Split data into training and testing sets\n",
        "X_train, X_test, y_train, y_test = train_test_split(features, onehot_encoded, test_size=0.2, random_state=42)\n",
        "\n",
        "print(\"split data\")"
      ]
    },
    {
      "cell_type": "markdown",
      "metadata": {
        "id": "Xz_94Y3moE9g"
      },
      "source": [
        "**Train Model**"
      ]
    },
    {
      "cell_type": "code",
      "execution_count": null,
      "metadata": {
        "id": "yOQ-jSqdlIBx"
      },
      "outputs": [],
      "source": [
        "import numpy as np\n",
        "import pandas as pd\n",
        "from sklearn.model_selection import train_test_split\n",
        "from tensorflow import keras\n",
        "from keras.models import Sequential\n",
        "from keras.layers import Dense, LSTM, Dropout, GRU, TimeDistributed, Conv2D, MaxPooling2D, Flatten, InputLayer, Conv1D, MaxPooling1D, Reshape\n",
        "from keras.optimizers import Adam\n",
        "from sklearn.preprocessing import LabelEncoder, OneHotEncoder\n",
        "from sklearn.preprocessing import StandardScaler\n",
        "\n",
        "# Build the model\n",
        "model = Sequential()\n",
        "model.add(InputLayer(input_shape=(None, 25)))\n",
        "\n",
        "# Reshape the input to add the channel dimension\n",
        "model.add(TimeDistributed(Reshape((25, 1))))\n",
        "\n",
        "# Add convolutional layers\n",
        "model.add(TimeDistributed(Conv1D(32, kernel_size=3, activation='relu')))\n",
        "model.add(TimeDistributed(MaxPooling1D(pool_size=2)))\n",
        "model.add(TimeDistributed(Flatten()))\n",
        "\n",
        "# Add LSTM layers\n",
        "model.add(LSTM(128, return_sequences=True))\n",
        "model.add(LSTM(64))\n",
        "\n",
        "# Add dense layers\n",
        "model.add(Dense(128, activation='relu'))\n",
        "model.add(Dense(y_train.shape[1], activation='softmax'))  # Number of chords in one-hot encoding\n",
        "\n",
        "# Compile the model\n",
        "model.compile(optimizer='adam', loss='categorical_crossentropy', metrics=['accuracy'])\n",
        "\n",
        "# Train the model\n",
        "model.fit(X_train, y_train, epochs=11, batch_size=32, validation_data=(X_test, y_test))\n",
        "\n",
        "# Save the model\n",
        "model.save('/content/drive/MyDrive/Chord Detection/chord_detection_model.h5')\n",
        "\n",
        "# Predict and decode the predictions\n",
        "predicted_indices = model.predict(X_test).argmax(axis=1)\n",
        "predicted_chords = label_encoder.inverse_transform(predicted_indices)\n",
        "\n",
        "# Print the predicted chords\n",
        "print(\"Predicted Chords:\")\n",
        "print(predicted_chords[:10])\n",
        "\n",
        "print(predicted_chords[:10])\n",
        "\n"
      ]
    },
    {
      "cell_type": "markdown",
      "metadata": {
        "id": "fynMz5iMoKTB"
      },
      "source": [
        "Real Time Analysis"
      ]
    },
    {
      "cell_type": "code",
      "execution_count": null,
      "metadata": {
        "id": "XKnXhnw4cxRu"
      },
      "outputs": [],
      "source": [
        "import numpy as np\n",
        "import librosa\n",
        "from IPython.display import Audio, display\n",
        "import os\n",
        "import matplotlib.pyplot as plt\n",
        "\n",
        "#!pip install yt-dlp\n",
        "#import yt_dlp"
      ]
    },
    {
      "cell_type": "code",
      "execution_count": null,
      "metadata": {
        "id": "ykXS9LlBrXlW"
      },
      "outputs": [],
      "source": [
        "def note_name(index):\n",
        "    notes = ['C', 'C#', 'D', 'D#', 'E', 'F', 'F#', 'G', 'G#', 'A', 'A#', 'B']\n",
        "    return notes[index]\n",
        "\n",
        "def identify_chord(chromagram): # takes in mean chromagram\n",
        "    patterns = {\n",
        "        'major': [0, 4, 7],\n",
        "        'minor': [0, 3, 7],\n",
        "        'diminished': [0, 3, 6],\n",
        "        'augmented': [0, 4, 8],\n",
        "        'dominant': [0, 4, 7],\n",
        "        'half-diminished': [0, 3, 5],\n",
        "        'half-augmented': [0, 4, 8],\n",
        "    }\n",
        "    threshold = 0.4 * max(chromagram)\n",
        "    significant_notes = [i for i, x in enumerate(chromagram) if x > threshold]\n",
        "    chord_scores = {}\n",
        "\n",
        "    for root in significant_notes:\n",
        "        for chord_type, pattern in patterns.items():\n",
        "            if all((root + interval) % 12 in significant_notes for interval in pattern):\n",
        "                # Calculate weighted score for the chord\n",
        "                score = sum(chromagram[(root + interval) % 12] for interval in pattern)\n",
        "                chord_name = note_name(root) + ' ' + chord_type\n",
        "                chord_scores[chord_name] = max(chord_scores.get(chord_name, 0), score)\n",
        "\n",
        "    # Return the chord with the highest score or a message if no chord was recognized\n",
        "    if chord_scores:\n",
        "        return max(chord_scores, key=chord_scores.get)\n",
        "    else:\n",
        "        return None\n"
      ]
    },
    {
      "cell_type": "code",
      "execution_count": null,
      "metadata": {
        "colab": {
          "base_uri": "https://localhost:8080/",
          "height": 577
        },
        "id": "eCSI1KngdX6D",
        "outputId": "7d34be61-d39a-4a58-8f00-13cdcf3bc482"
      },
      "outputs": [
        {
          "name": "stdout",
          "output_type": "stream",
          "text": [
            "[0.55295024 0.09754972 0.         0.02375335 0.62674201 0.07218392\n",
            " 0.         0.45011926 0.14924184 0.09957669 0.02375335 0.22505963]\n",
            "[0.54986725 0.28125278 0.1076711  0.20975911 0.99999863 0.44835102\n",
            " 0.13041418 0.38755761 0.28704137 0.08655101 0.07374154 0.2769892 ]\n",
            "[0.88009787 0.24669689 0.18419135 0.16070225 0.98363212 0.21665862\n",
            " 0.15218331 0.6629599  0.28815495 0.24514655 0.17929593 0.28744487]\n",
            "C major\n"
          ]
        },
        {
          "data": {
            "image/png": "[encoded data removed]",
            "text/plain": [
              "<Figure size 640x480 with 6 Axes>"
            ]
          },
          "metadata": {},
          "output_type": "display_data"
        }
      ],
      "source": [
        "def id_chord(y, sr):\n",
        "  #S = np.abs(librosa.stft(y))\n",
        "  cqt = librosa.feature.chroma_cqt(y=y, sr=sr)\n",
        "  chroma = librosa.feature.chroma_stft(y=y, sr=sr)\n",
        "  cens = librosa.feature.chroma_cens(y=y, sr=sr)\n",
        "\n",
        "  fig, ax = plt.subplots(nrows=3, sharex=True)\n",
        "  img = librosa.display.specshow(cens, y_axis='chroma', x_axis='time', ax=ax[0])\n",
        "  fig.colorbar(img, ax=[ax[0]])\n",
        "  ax[0].label_outer()\n",
        "  img = librosa.display.specshow(chroma, y_axis='chroma', x_axis='time', ax=ax[1])\n",
        "  fig.colorbar(img, ax=[ax[1]])\n",
        "\n",
        "  img = librosa.display.specshow(cqt, y_axis='chroma', x_axis='time', ax=ax[2])\n",
        "  fig.colorbar(img, ax=[ax[2]])\n",
        "  mean_chroma = np.mean(chroma, axis=1)\n",
        "  mean_cqt = np.mean(cqt, axis=1)\n",
        "  mean_cens = np.mean(cens, axis=1)\n",
        "\n",
        "  #print(cens)\n",
        "  print(mean_cens)\n",
        "  print(mean_chroma)\n",
        "  print(mean_cqt)\n",
        "\n",
        "  print(identify_chord(mean_cqt))\n",
        "\n",
        "with open(\"c maj.npy\", \"rb\") as f:\n",
        "   y = np.load(f)\n",
        "   sr = 22050\n",
        "   id_chord(y, sr)\n",
        "\n"
      ]
    },
    {
      "cell_type": "markdown",
      "metadata": {
        "id": "LRBaBDI-OoqW"
      },
      "source": [
        "Convert song to nnls chroma (defaults to 3 bin as per http://www.isophonics.net/nnls-chroma) want a chroma and bass chromagram"
      ]
    },
    {
      "cell_type": "code",
      "execution_count": null,
      "metadata": {
        "id": "eSR4cIIoVwMU"
      },
      "outputs": [],
      "source": [
        "URLS = ['https://www.youtube.com/watch?v=BaW_jenozKc']\n",
        "\n",
        "ydl_opts = {\n",
        "    'format': 'mp3/bestaudio/best',\n",
        "    # ℹ️ See help(yt_dlp.postprocessor) for a list of available Postprocessors and their arguments\n",
        "    'postprocessors': [{  # Extract audio using ffmpeg\n",
        "        'key': 'FFmpegExtractAudio',\n",
        "        'preferredcodec': 'mp3',\n",
        "    }],\n",
        "    'outtmpl': '%(id)s'\n",
        "}\n",
        "\n",
        "id = \"\"\n",
        "\n",
        "# use chord extracter thingy online and save timestamps, match to see if thing is correct and create ordering system for whether chord needs to have higher or lower root,\n",
        "# along with whether it is of diff type like major minor diminised, also possibly include system for showing chord diagrams if needed mayb esay how many steps away\n",
        "with yt_dlp.YoutubeDL(ydl_opts) as ydl:\n",
        "    error_code = ydl.download(URLS)\n",
        "    y, sr = librosa.load(f\"{ydl.extract_info(URLS[0], download=False)['id']}.mp3\")\n",
        "    id_chord(y, sr)"
      ]
    }
  ],
  "metadata": {
    "colab": {
      "gpuType": "T4",
      "provenance": []
    },
    "kernelspec": {
      "display_name": "Python 3",
      "name": "python3"
    },
    "language_info": {
      "name": "python"
    }
  },
  "nbformat": 4,
  "nbformat_minor": 0
}